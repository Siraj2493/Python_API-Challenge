{
 "nbformat": 4,
 "nbformat_minor": 2,
 "metadata": {
  "language_info": {
   "name": "python",
   "codemirror_mode": {
    "name": "ipython",
    "version": 3
   },
   "version": "3.7.4-final"
  },
  "orig_nbformat": 2,
  "file_extension": ".py",
  "mimetype": "text/x-python",
  "name": "python",
  "npconvert_exporter": "python",
  "pygments_lexer": "ipython3",
  "version": 3,
  "kernelspec": {
   "name": "python37464bitbasecondae1a540739375406c8124128569af8a2e",
   "display_name": "Python 3.7.4 64-bit ('base': conda)"
  }
 },
 "cells": [
  {
   "cell_type": "code",
   "execution_count": 19,
   "metadata": {},
   "outputs": [
    {
     "name": "stdout",
     "output_type": "stream",
     "text": "Requirement already satisfied: py in c:\\users\\siraj\\documents\\conda\\lib\\site-packages (1.8.0)\nNote: you may need to restart the kernel to use updated packages.\n"
    }
   ],
   "source": [
    "pip install py"
   ]
  },
  {
   "cell_type": "code",
   "execution_count": 24,
   "metadata": {},
   "outputs": [],
   "source": [
    "# Dependencies and Setup\n",
    "import matplotlib.pyplot as plt\n",
    "import pandas as pd\n",
    "import numpy as np\n",
    "import requests\n",
    "import time\n",
    "\n",
    "# Import API key\n",
    "from config import api_key\n",
    "temp_units = \"imperial\"\n",
    "\n",
    "# Incorporated citipy to determine city based on latitude and longitude\n",
    "from citipy import citipy\n",
    "\n",
    "# Output File (CSV)\n",
    "output_data_file = \"Output/weather_df.csv\"\n",
    "\n",
    "# Range of latitudes and longitudes\n",
    "lat_range = (-90, 90)\n",
    "lng_range = (-180, 180)\n",
    "\n",
    "# define url\n",
    "query_url = f\"http://api.openweathermap.org/data/2.5/weather?appid={api_key}&units={temp_units}&q=\"\n",
    "\n",
    "# define count of pass throughs\n",
    "count_one = 0\n",
    "set_one = 1"
   ]
  },
  {
   "cell_type": "code",
   "execution_count": 25,
   "metadata": {},
   "outputs": [
    {
     "data": {
      "text/plain": "598"
     },
     "execution_count": 25,
     "metadata": {},
     "output_type": "execute_result"
    }
   ],
   "source": [
    "# List for holding lat_lngs and cities\n",
    "lat_lngs = []\n",
    "cities = []\n",
    "\n",
    "# Create a set of random lat and lng combinations\n",
    "lats = np.random.uniform(low=-90.000, high=90.000, size=1500)\n",
    "lngs = np.random.uniform(low=-180.000, high=180.000, size=1500)\n",
    "lat_lngs = zip(lats, lngs)\n",
    "\n",
    "# Identify nearest city for each lat, lng combination\n",
    "for lat_lng in lat_lngs:\n",
    "    city = citipy.nearest_city(lat_lng[0], lat_lng[1]).city_name\n",
    "    \n",
    "    # Replace spaces with %20 to create url correctly \n",
    "    city = city.replace(\" \", \"%20\")\n",
    "    \n",
    "    # If the city is unique, then add it to a our cities list\n",
    "    if city not in cities:\n",
    "\n",
    "        cities.append(city)\n",
    "\n",
    "# Print the city count to confirm sufficient count\n",
    "len(cities)"
   ]
  },
  {
   "cell_type": "code",
   "execution_count": 28,
   "metadata": {},
   "outputs": [
    {
     "name": "stdout",
     "output_type": "stream",
     "text": "ssing Record 1 of Set 3 | khasan\nProcessing Record 2 of Set 3 | kaeo\nProcessing Record 3 of Set 3 | colorines\nProcessing Record 4 of Set 3 | tuktoyaktuk\nProcessing Record 5 of Set 3 | tilichiki\nProcessing Record 6 of Set 3 | dakar\nProcessing Record 7 of Set 3 | lata\nProcessing Record 8 of Set 3 | yenangyaung\nProcessing Record 9 of Set 3 | poso\nProcessing Record 10 of Set 3 | mosquera\nProcessing Record 11 of Set 3 | gejiu\nProcessing Record 12 of Set 3 | vila%20franca%20do%20campo\nProcessing Record 13 of Set 3 | talara\nCity not found. Skipping...\nProcessing Record 14 of Set 3 | bengkulu\nProcessing Record 15 of Set 3 | itarema\nProcessing Record 16 of Set 3 | bilibino\nProcessing Record 17 of Set 3 | bathsheba\nProcessing Record 18 of Set 3 | jamestown\nProcessing Record 19 of Set 3 | okha\nCity not found. Skipping...\nCity not found. Skipping...\nProcessing Record 20 of Set 3 | puerto%20ayora\nProcessing Record 21 of Set 3 | beryslav\nProcessing Record 22 of Set 3 | shahrud\nProcessing Record 23 of Set 3 | georgetown\nProcessing Record 24 of Set 3 | saint-pierre\nProcessing Record 25 of Set 3 | ucluelet\nProcessing Record 26 of Set 3 | okhotsk\nProcessing Record 27 of Set 3 | muisne\nProcessing Record 28 of Set 3 | apac\nProcessing Record 29 of Set 3 | hobart\nProcessing Record 30 of Set 3 | souillac\nProcessing Record 31 of Set 3 | chokurdakh\nProcessing Record 32 of Set 3 | kalmunai\nProcessing Record 33 of Set 3 | sambava\nProcessing Record 34 of Set 3 | khorixas\nProcessing Record 35 of Set 3 | inuvik\nProcessing Record 36 of Set 3 | treinta%20y%20tres\nProcessing Record 37 of Set 3 | guerrero%20negro\nProcessing Record 38 of Set 3 | catamarca\nProcessing Record 39 of Set 3 | seguela\nProcessing Record 40 of Set 3 | sao%20jose%20da%20coroa%20grande\nProcessing Record 41 of Set 3 | nikolskoye\nProcessing Record 42 of Set 3 | acapulco\nProcessing Record 43 of Set 3 | kilingi-nomme\nProcessing Record 44 of Set 3 | pacifica\nProcessing Record 45 of Set 3 | cidreira\nProcessing Record 46 of Set 3 | saldanha\nProcessing Record 47 of Set 3 | hearst\nProcessing Record 48 of Set 3 | saquarema\nProcessing Record 49 of Set 3 | sandovo\nProcessing Record 1 of Set 4 | pringsewu\nProcessing Record 2 of Set 4 | ewa%20beach\nProcessing Record 3 of Set 4 | morondava\nProcessing Record 4 of Set 4 | port%20blair\nProcessing Record 5 of Set 4 | campo%20grande\nProcessing Record 6 of Set 4 | dukat\nProcessing Record 7 of Set 4 | miandrivazo\nProcessing Record 8 of Set 4 | saskylakh\nProcessing Record 9 of Set 4 | huarmey\nProcessing Record 10 of Set 4 | arraial%20do%20cabo\nProcessing Record 11 of Set 4 | northam\nProcessing Record 12 of Set 4 | pingxiang\nProcessing Record 13 of Set 4 | mandalgovi\nProcessing Record 14 of Set 4 | antofagasta\nProcessing Record 15 of Set 4 | kurilsk\nProcessing Record 16 of Set 4 | sibolga\nProcessing Record 17 of Set 4 | komsomolskiy\nCity not found. Skipping...\nCity not found. Skipping...\nProcessing Record 18 of Set 4 | oparino\nProcessing Record 19 of Set 4 | dikson\nProcessing Record 20 of Set 4 | kodiak\nProcessing Record 21 of Set 4 | cagliari\nProcessing Record 22 of Set 4 | kimbe\nProcessing Record 23 of Set 4 | carnarvon\nProcessing Record 24 of Set 4 | high%20level\nProcessing Record 25 of Set 4 | sao%20miguel%20do%20araguaia\nProcessing Record 26 of Set 4 | cockburn%20town\nProcessing Record 27 of Set 4 | touros\nProcessing Record 28 of Set 4 | cherskiy\nProcessing Record 29 of Set 4 | sitka\nProcessing Record 30 of Set 4 | lebu\nProcessing Record 31 of Set 4 | isangel\nProcessing Record 32 of Set 4 | umm%20lajj\nCity not found. Skipping...\nProcessing Record 33 of Set 4 | anadyr\nProcessing Record 34 of Set 4 | talnakh\nProcessing Record 35 of Set 4 | garowe\nProcessing Record 36 of Set 4 | alexandria\nProcessing Record 37 of Set 4 | pozo%20colorado\nProcessing Record 38 of Set 4 | sao%20joao%20da%20barra\nProcessing Record 39 of Set 4 | mount%20pleasant\nProcessing Record 40 of Set 4 | torbay\nProcessing Record 41 of Set 4 | pevek\nProcessing Record 42 of Set 4 | kaitangata\nProcessing Record 43 of Set 4 | monetnyy\nProcessing Record 44 of Set 4 | montrose\nProcessing Record 45 of Set 4 | dunedin\nProcessing Record 46 of Set 4 | jieshi\nProcessing Record 47 of Set 4 | lichtenburg\nProcessing Record 48 of Set 4 | sretensk\nProcessing Record 49 of Set 4 | tianpeng\nProcessing Record 1 of Set 5 | orlik\nProcessing Record 2 of Set 5 | yaan\nProcessing Record 3 of Set 5 | birjand\nProcessing Record 4 of Set 5 | udachnyy\nProcessing Record 5 of Set 5 | yuci\nProcessing Record 6 of Set 5 | takoradi\nProcessing Record 7 of Set 5 | port-cartier\nProcessing Record 8 of Set 5 | narsaq\nProcessing Record 9 of Set 5 | belize\nProcessing Record 10 of Set 5 | champerico\nProcessing Record 11 of Set 5 | broome\nProcessing Record 12 of Set 5 | jutai\nProcessing Record 13 of Set 5 | nizhnyaya%20omka\nProcessing Record 14 of Set 5 | pangody\nProcessing Record 15 of Set 5 | berezovka\nProcessing Record 16 of Set 5 | richards%20bay\nProcessing Record 17 of Set 5 | bonavista\nProcessing Record 18 of Set 5 | clyde%20river\nProcessing Record 19 of Set 5 | andros%20town\nProcessing Record 20 of Set 5 | marovoay\nProcessing Record 21 of Set 5 | yuxia\nProcessing Record 22 of Set 5 | azare\nProcessing Record 23 of Set 5 | mogadishu\nProcessing Record 24 of Set 5 | salobrena\nProcessing Record 25 of Set 5 | rundu\nProcessing Record 26 of Set 5 | salisbury\nProcessing Record 27 of Set 5 | emba\nProcessing Record 28 of Set 5 | raga\nProcessing Record 29 of Set 5 | san%20cristobal\nProcessing Record 30 of Set 5 | lompoc\nProcessing Record 31 of Set 5 | kloulklubed\nProcessing Record 32 of Set 5 | newry\nProcessing Record 33 of Set 5 | kharp\nProcessing Record 34 of Set 5 | geraldton\nProcessing Record 35 of Set 5 | chuy\nProcessing Record 36 of Set 5 | leh\nProcessing Record 37 of Set 5 | chifeng\nProcessing Record 38 of Set 5 | lorengau\nProcessing Record 39 of Set 5 | barra%20do%20garcas\nProcessing Record 40 of Set 5 | yulara\nProcessing Record 41 of Set 5 | padang\nProcessing Record 42 of Set 5 | ambovombe\nProcessing Record 43 of Set 5 | aldan\nProcessing Record 44 of Set 5 | zhuanghe\nProcessing Record 45 of Set 5 | tekkali\nCity not found. Skipping...\nProcessing Record 46 of Set 5 | bowen\nProcessing Record 47 of Set 5 | meulaboh\nProcessing Record 48 of Set 5 | madinat%20sittah%20uktubar\nProcessing Record 49 of Set 5 | port%20hedland\nProcessing Record 1 of Set 6 | vredendal\nProcessing Record 2 of Set 6 | khatanga\nProcessing Record 3 of Set 6 | conceicao%20do%20araguaia\nProcessing Record 4 of Set 6 | hoquiam\nProcessing Record 5 of Set 6 | kouroussa\nProcessing Record 6 of Set 6 | asau\nProcessing Record 7 of Set 6 | gizo\nProcessing Record 8 of Set 6 | houma\nProcessing Record 9 of Set 6 | semey\nProcessing Record 10 of Set 6 | alofi\nProcessing Record 11 of Set 6 | moyale\nProcessing Record 12 of Set 6 | davila\nProcessing Record 13 of Set 6 | galle\nProcessing Record 14 of Set 6 | fortuna\nProcessing Record 15 of Set 6 | safford\nProcessing Record 16 of Set 6 | los%20llanos%20de%20aridane\nProcessing Record 17 of Set 6 | pisco\nProcessing Record 18 of Set 6 | rio%20verde%20de%20mato%20grosso\nProcessing Record 19 of Set 6 | kasongo-lunda\nProcessing Record 20 of Set 6 | petropavlovsk-kamchatskiy\nProcessing Record 21 of Set 6 | tevaitoa\nProcessing Record 22 of Set 6 | gamba\nProcessing Record 23 of Set 6 | havoysund\nProcessing Record 24 of Set 6 | tongliao\nProcessing Record 25 of Set 6 | gloucester\nProcessing Record 26 of Set 6 | dauphin\nProcessing Record 27 of Set 6 | acajutla\nCity not found. Skipping...\nProcessing Record 28 of Set 6 | lokosovo\nProcessing Record 29 of Set 6 | kavieng\nProcessing Record 30 of Set 6 | tezu\nProcessing Record 31 of Set 6 | tutoia\nProcessing Record 32 of Set 6 | porto%20novo\nCity not found. Skipping...\nProcessing Record 33 of Set 6 | katsuura\nProcessing Record 34 of Set 6 | nowy%20targ\nProcessing Record 35 of Set 6 | mazatan\nProcessing Record 36 of Set 6 | kavaratti\nProcessing Record 37 of Set 6 | esfarayen\nProcessing Record 38 of Set 6 | mandasa\nProcessing Record 39 of Set 6 | burghausen\nProcessing Record 40 of Set 6 | quartucciu\nProcessing Record 41 of Set 6 | lazarev\nProcessing Record 42 of Set 6 | biak\nProcessing Record 43 of Set 6 | southbridge\nProcessing Record 44 of Set 6 | provideniya\nProcessing Record 45 of Set 6 | nikel\nProcessing Record 46 of Set 6 | rawson\nProcessing Record 47 of Set 6 | valera\nProcessing Record 48 of Set 6 | codrington\nProcessing Record 49 of Set 6 | sladkovo\nProcessing Record 1 of Set 7 | quiindy\nProcessing Record 2 of Set 7 | zhigansk\nProcessing Record 3 of Set 7 | slave%20lake\nProcessing Record 4 of Set 7 | sulangan\nProcessing Record 5 of Set 7 | kapit\nCity not found. Skipping...\nProcessing Record 6 of Set 7 | bongor\nProcessing Record 7 of Set 7 | cao%20bang\nProcessing Record 8 of Set 7 | chota\nProcessing Record 9 of Set 7 | mandan\nProcessing Record 10 of Set 7 | yar-sale\nProcessing Record 11 of Set 7 | graham\nProcessing Record 12 of Set 7 | libreville\nProcessing Record 13 of Set 7 | rock%20sound\nProcessing Record 14 of Set 7 | carutapera\nProcessing Record 15 of Set 7 | rocha\nProcessing Record 16 of Set 7 | bud\nProcessing Record 17 of Set 7 | severnyy\nProcessing Record 18 of Set 7 | durban\nProcessing Record 19 of Set 7 | vardo\nProcessing Record 20 of Set 7 | aklavik\nProcessing Record 21 of Set 7 | fare\nProcessing Record 22 of Set 7 | porto%20santo\nCity not found. Skipping...\nProcessing Record 23 of Set 7 | atambua\nProcessing Record 24 of Set 7 | batsfjord\nCity not found. Skipping...\nProcessing Record 25 of Set 7 | staroshcherbinovskaya\nProcessing Record 26 of Set 7 | necochea\nProcessing Record 27 of Set 7 | polewali\nProcessing Record 28 of Set 7 | tambun\nProcessing Record 29 of Set 7 | hofn\nProcessing Record 30 of Set 7 | kruisfontein\nProcessing Record 31 of Set 7 | gillette\nProcessing Record 32 of Set 7 | norman%20wells\nProcessing Record 33 of Set 7 | cuenca\nProcessing Record 34 of Set 7 | pala\nProcessing Record 35 of Set 7 | pinawa\nProcessing Record 36 of Set 7 | caravelas\nProcessing Record 37 of Set 7 | kirakira\nProcessing Record 38 of Set 7 | pangnirtung\nProcessing Record 39 of Set 7 | praya\nProcessing Record 40 of Set 7 | angostura\nProcessing Record 41 of Set 7 | karachi\nProcessing Record 42 of Set 7 | manta\nProcessing Record 43 of Set 7 | risalpur\nProcessing Record 44 of Set 7 | warangal\nProcessing Record 45 of Set 7 | ravar\nProcessing Record 46 of Set 7 | russell\nProcessing Record 47 of Set 7 | muriwai%20beach\nProcessing Record 48 of Set 7 | half%20moon%20bay\nProcessing Record 49 of Set 7 | desaguadero\nProcessing Record 1 of Set 8 | santo%20tomas\nProcessing Record 2 of Set 8 | kailua\nProcessing Record 3 of Set 8 | avanigadda\nProcessing Record 4 of Set 8 | mahebourg\nCity not found. Skipping...\nProcessing Record 5 of Set 8 | kharan\nProcessing Record 6 of Set 8 | merauke\nProcessing Record 7 of Set 8 | da%20lat\nProcessing Record 8 of Set 8 | beringovskiy\nProcessing Record 9 of Set 8 | ossora\nProcessing Record 10 of Set 8 | vila%20velha\nProcessing Record 11 of Set 8 | deputatskiy\nProcessing Record 12 of Set 8 | pitimbu\nProcessing Record 13 of Set 8 | avera\nProcessing Record 14 of Set 8 | sao%20filipe\nProcessing Record 15 of Set 8 | pacific%20grove\nProcessing Record 16 of Set 8 | zhanakorgan\nProcessing Record 17 of Set 8 | mingshui\nProcessing Record 18 of Set 8 | aksarka\nProcessing Record 19 of Set 8 | flin%20flon\nProcessing Record 20 of Set 8 | hambantota\nProcessing Record 21 of Set 8 | iaciara\nProcessing Record 22 of Set 8 | barra%20da%20estiva\nProcessing Record 23 of Set 8 | tarko-sale\nProcessing Record 24 of Set 8 | uzhur\nProcessing Record 25 of Set 8 | sola\nProcessing Record 26 of Set 8 | tamandare\nProcessing Record 27 of Set 8 | tual\nCity not found. Skipping...\nProcessing Record 28 of Set 8 | ystad\nProcessing Record 29 of Set 8 | xinqing\nProcessing Record 30 of Set 8 | samarai\nProcessing Record 31 of Set 8 | smithers\nProcessing Record 32 of Set 8 | hami\nProcessing Record 33 of Set 8 | ankazoabo\nProcessing Record 34 of Set 8 | santa%20rosa\nCity not found. Skipping...\nProcessing Record 35 of Set 8 | winchester\nProcessing Record 36 of Set 8 | comodoro%20rivadavia\nProcessing Record 37 of Set 8 | laurel\nProcessing Record 38 of Set 8 | ulladulla\nProcessing Record 39 of Set 8 | contai\nProcessing Record 40 of Set 8 | tura\nProcessing Record 41 of Set 8 | bundaberg\nProcessing Record 42 of Set 8 | salzwedel\nProcessing Record 43 of Set 8 | ust-nera\nProcessing Record 44 of Set 8 | virginia%20beach\nProcessing Record 45 of Set 8 | taloqan\nProcessing Record 46 of Set 8 | the%20valley\nProcessing Record 47 of Set 8 | faanui\nCity not found. Skipping...\nProcessing Record 48 of Set 8 | hamilton\nProcessing Record 49 of Set 8 | new%20iberia\nProcessing Record 1 of Set 9 | santa%20marta\nProcessing Record 2 of Set 9 | shache\nCity not found. Skipping...\nProcessing Record 3 of Set 9 | ruteng\nProcessing Record 4 of Set 9 | pombas\nCity not found. Skipping...\nProcessing Record 5 of Set 9 | nicoya\nProcessing Record 6 of Set 9 | la%20palma\nProcessing Record 7 of Set 9 | haslev\nProcessing Record 8 of Set 9 | iraquara\nProcessing Record 9 of Set 9 | muli\nProcessing Record 10 of Set 9 | quelimane\nProcessing Record 11 of Set 9 | miyako\nProcessing Record 12 of Set 9 | salvador\nProcessing Record 13 of Set 9 | uruzgan\nProcessing Record 14 of Set 9 | tubuala\nProcessing Record 15 of Set 9 | anuradhapura\nProcessing Record 16 of Set 9 | kudahuvadhoo\nProcessing Record 17 of Set 9 | chingola\nProcessing Record 18 of Set 9 | san%20policarpo\nProcessing Record 19 of Set 9 | kulhudhuffushi\nProcessing Record 20 of Set 9 | sur\nProcessing Record 21 of Set 9 | lazaro%20cardenas\nProcessing Record 22 of Set 9 | dalvik\nProcessing Record 23 of Set 9 | banda%20aceh\nProcessing Record 24 of Set 9 | campbellton\nProcessing Record 25 of Set 9 | kodinsk\nCity not found. Skipping...\nProcessing Record 26 of Set 9 | chimbote\nProcessing Record 27 of Set 9 | monrovia\nProcessing Record 28 of Set 9 | marzuq\nProcessing Record 29 of Set 9 | kozan\nProcessing Record 30 of Set 9 | zavetnoye\nProcessing Record 31 of Set 9 | tiznit\nProcessing Record 32 of Set 9 | high%20rock\nProcessing Record 33 of Set 9 | ryotsu\nProcessing Record 34 of Set 9 | inta\nProcessing Record 35 of Set 9 | tazovskiy\nProcessing Record 36 of Set 9 | dicabisagan\nProcessing Record 37 of Set 9 | bukoba\nProcessing Record 38 of Set 9 | banjar\nCity not found. Skipping...\nProcessing Record 39 of Set 9 | lembeni\nProcessing Record 40 of Set 9 | esperance\nProcessing Record 41 of Set 9 | presidente%20epitacio\nProcessing Record 42 of Set 9 | portoferraio\nProcessing Record 43 of Set 9 | prince%20albert\nProcessing Record 44 of Set 9 | bougouni\nProcessing Record 45 of Set 9 | hervey%20bay\nProcessing Record 46 of Set 9 | bosaso\nProcessing Record 47 of Set 9 | boueni\nProcessing Record 48 of Set 9 | port%20hardy\nProcessing Record 49 of Set 9 | hualmay\nProcessing Record 1 of Set 10 | zhanaozen\nProcessing Record 2 of Set 10 | valdivia\nProcessing Record 3 of Set 10 | rybachiy\nProcessing Record 4 of Set 10 | zabid\nProcessing Record 5 of Set 10 | brokopondo\nProcessing Record 6 of Set 10 | sagua%20la%20grande\nProcessing Record 7 of Set 10 | axim\nProcessing Record 8 of Set 10 | salamiyah\nProcessing Record 9 of Set 10 | bridlington\nProcessing Record 10 of Set 10 | tsabong\nProcessing Record 11 of Set 10 | ende\nProcessing Record 12 of Set 10 | pulandian\nProcessing Record 13 of Set 10 | san%20luis\nProcessing Record 14 of Set 10 | taylorville\nProcessing Record 15 of Set 10 | bacungan\nProcessing Record 16 of Set 10 | joigny\nProcessing Record 17 of Set 10 | ayan\nProcessing Record 18 of Set 10 | krasnoselkup\nCity not found. Skipping...\nProcessing Record 19 of Set 10 | amli\nProcessing Record 20 of Set 10 | hindupur\nProcessing Record 21 of Set 10 | giddalur\nCity not found. Skipping...\nProcessing Record 22 of Set 10 | gobindpur\nProcessing Record 23 of Set 10 | barcelona\nProcessing Record 24 of Set 10 | pahrump\nProcessing Record 25 of Set 10 | vestmanna\nCity not found. Skipping...\nProcessing Record 26 of Set 10 | nuuk\nProcessing Record 27 of Set 10 | portland\nProcessing Record 28 of Set 10 | yuancheng\nProcessing Record 29 of Set 10 | sinnamary\nProcessing Record 30 of Set 10 | faya\nProcessing Record 31 of Set 10 | lugo\nCity not found. Skipping...\nProcessing Record 32 of Set 10 | nanga%20eboko\nProcessing Record 33 of Set 10 | cairns\nProcessing Record 34 of Set 10 | buala\nProcessing Record 35 of Set 10 | concordia\nProcessing Record 36 of Set 10 | kargasok\nProcessing Record 37 of Set 10 | beisfjord\nProcessing Record 38 of Set 10 | aykhal\nProcessing Record 39 of Set 10 | graaff-reinet\nProcessing Record 40 of Set 10 | vilyuysk\nProcessing Record 41 of Set 10 | saint-joseph\nProcessing Record 42 of Set 10 | umm%20kaddadah\nProcessing Record 43 of Set 10 | havelock\nProcessing Record 44 of Set 10 | north%20battleford\nProcessing Record 45 of Set 10 | atakpame\nProcessing Record 46 of Set 10 | tshikapa\nCity not found. Skipping...\nProcessing Record 47 of Set 10 | kahului\nProcessing Record 48 of Set 10 | honningsvag\nProcessing Record 49 of Set 10 | skjervoy\nProcessing Record 1 of Set 11 | vostok\nProcessing Record 2 of Set 11 | ampanihy\nProcessing Record 3 of Set 11 | maple%20creek\nProcessing Record 4 of Set 11 | xapuri\nProcessing Record 5 of Set 11 | along\nProcessing Record 6 of Set 11 | marawi\nProcessing Record 7 of Set 11 | gunjur\nCity not found. Skipping...\nProcessing Record 8 of Set 11 | maniitsoq\nProcessing Record 9 of Set 11 | kabompo\nCity not found. Skipping...\nProcessing Record 10 of Set 11 | uchiza\nProcessing Record 11 of Set 11 | iskateley\nProcessing Record 12 of Set 11 | grand%20gaube\nProcessing Record 13 of Set 11 | vanavara\nProcessing Record 14 of Set 11 | marsa%20matruh\nProcessing Record 15 of Set 11 | hovd\nProcessing Record 16 of Set 11 | rongcheng\nProcessing Record 17 of Set 11 | andenes\nProcessing Record 18 of Set 11 | turan\nProcessing Record 19 of Set 11 | cap%20malheureux\nCity not found. Skipping...\nProcessing Record 20 of Set 11 | san%20julian\nProcessing Record 21 of Set 11 | vytegra\nCity not found. Skipping...\nProcessing Record 22 of Set 11 | boditi\nProcessing Record 23 of Set 11 | groa\nProcessing Record 24 of Set 11 | anzio\nCity not found. Skipping...\nProcessing Record 25 of Set 11 | sorong\nProcessing Record 26 of Set 11 | jingdezhen\nProcessing Record 27 of Set 11 | yatou\nProcessing Record 28 of Set 11 | novobiryusinskiy\nCity not found. Skipping...\nProcessing Record 29 of Set 11 | evensk\nProcessing Record 30 of Set 11 | la%20ronge\nProcessing Record 31 of Set 11 | charagua\nProcessing Record 32 of Set 11 | qaqortoq\nProcessing Record 33 of Set 11 | dali\nProcessing Record 34 of Set 11 | tabou\nProcessing Record 35 of Set 11 | kudat\nCity not found. Skipping...\nProcessing Record 36 of Set 11 | tevriz\nProcessing Record 37 of Set 11 | cururupu\nProcessing Record 38 of Set 11 | ballina\nProcessing Record 39 of Set 11 | saint%20george\nProcessing Record 40 of Set 11 | chibombo\nProcessing Record 41 of Set 11 | nadvoitsy\nProcessing Record 42 of Set 11 | osakarovka\nProcessing Record 43 of Set 11 | raglan\nProcessing Record 44 of Set 11 | carmo%20do%20rio%20claro\nProcessing Record 45 of Set 11 | maldonado\nProcessing Record 46 of Set 11 | malchevskaya\nProcessing Record 47 of Set 11 | bukachacha\nCity not found. Skipping...\nProcessing Record 48 of Set 11 | ambulu\nProcessing Record 49 of Set 11 | winnemucca\nProcessing Record 1 of Set 12 | namibe\nProcessing Record 2 of Set 12 | dzaoudzi\nCity not found. Skipping...\nProcessing Record 3 of Set 12 | santa%20maria\nProcessing Record 4 of Set 12 | waipawa\nProcessing Record 5 of Set 12 | srednekolymsk\nProcessing Record 6 of Set 12 | saint-augustin\nProcessing Record 7 of Set 12 | camana\nProcessing Record 8 of Set 12 | nargana\nProcessing Record 9 of Set 12 | roma\nProcessing Record 10 of Set 12 | waingapu\nProcessing Record 11 of Set 12 | petatlan\nProcessing Record 12 of Set 12 | bayir\nProcessing Record 13 of Set 12 | hennenman\n------------------------------\nData Retrieval Complete\n------------------------------\n"
    }
   ],
   "source": [
    "# set lists for the dataframe\n",
    "city_two = []\n",
    "cloudinesses = []\n",
    "dates = []\n",
    "humidities = []\n",
    "lats = []\n",
    "lngs = []\n",
    "max_temps = []\n",
    "wind_speeds = []\n",
    "countries = []\n",
    "\n",
    "# set initial count quantities for organization\n",
    "count_one = 0\n",
    "set_one = 1\n",
    "\n",
    "# loops for creating dataframe columns\n",
    "for city in cities:\n",
    "    try:\n",
    "        response = requests.get(query_url + city.replace(\" \",\"&\")).json()\n",
    "        cloudinesses.append(response['clouds']['all'])\n",
    "        countries.append(response['sys']['country'])\n",
    "        dates.append(response['dt'])\n",
    "        humidities.append(response['main']['humidity'])\n",
    "        lats.append(response['coord']['lat'])\n",
    "        lngs.append(response['coord']['lon'])\n",
    "        max_temps.append(response['main']['temp_max'])\n",
    "        wind_speeds.append(response['wind']['speed'])\n",
    "        if count_one > 48:\n",
    "            count_one = 1\n",
    "            set_one += 1\n",
    "            city_two.append(city)\n",
    "        else:\n",
    "            count_one += 1\n",
    "            city_two.append(city)\n",
    "        print(f\"Processing Record {count_one} of Set {set_one} | {city}\")\n",
    "    except Exception:\n",
    "        print(\"City not found. Skipping...\")\n",
    "print(\"------------------------------\\nData Retrieval Complete\\n------------------------------\")"
   ]
  },
  {
   "cell_type": "code",
   "execution_count": null,
   "metadata": {},
   "outputs": [],
   "source": []
  }
 ]
}